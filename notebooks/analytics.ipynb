{
  "nbformat": 4,
  "nbformat_minor": 5,
  "metadata": {},
  "cells": [
    {
      "cell_type": "markdown",
      "metadata": {},
      "source": [
        "# Analytics Notebook\\nQuick EDA and visualizations."
      ],
      "outputs": []
    },
    {
      "cell_type": "code",
      "metadata": {},
      "source": [
        "import pandas as pd\\ndf = pd.read_csv('../data/products.csv')\\nprint('Rows:', len(df))\\nprint(df.columns)\\n"
      ],
      "outputs": []
    },
    {
      "cell_type": "code",
      "metadata": {},
      "source": [
        "import matplotlib.pyplot as plt\\nif 'price' in df.columns:\\n    df['price'].dropna().hist(bins=40)\\n    plt.title('Price distribution')\\n    plt.show()\\n"
      ],
      "outputs": []
    }
  ]
}