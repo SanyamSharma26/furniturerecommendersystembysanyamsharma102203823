{
  "nbformat": 4,
  "nbformat_minor": 5,
  "metadata": {},
  "cells": [
    {
      "cell_type": "markdown",
      "metadata": {},
      "source": [
        "# Model Training Notebook\\nThis notebook explains steps to train text and image models."
      ],
      "outputs": []
    },
    {
      "cell_type": "code",
      "metadata": {},
      "source": [
        "import pandas as pd\\ndf = pd.read_csv('../data/products.csv')\\ndf.head()\\n"
      ],
      "outputs": []
    },
    {
      "cell_type": "markdown",
      "metadata": {},
      "source": [
        "## Text embeddings (sentence-transformers)\\nUse `all-MiniLM-L6-v2` to create embeddings and save to disk."
      ],
      "outputs": []
    },
    {
      "cell_type": "code",
      "metadata": {},
      "source": [
        "from sentence_transformers import SentenceTransformer\\nmodel = SentenceTransformer('all-MiniLM-L6-v2')\\ntexts = (df['title'].fillna('') + ' ' + df['description'].fillna('')).tolist()\\nembs = model.encode(texts, show_progress_bar=True)\\nimport numpy as np\\nnp.save('text_embeddings.npy', embs)\\nprint('Saved')\\n"
      ],
      "outputs": []
    },
    {
      "cell_type": "markdown",
      "metadata": {},
      "source": [
        "## CLIP image embeddings\\nUse `backend/models/clip_embed.py` to generate image vectors (requires local images)."
      ],
      "outputs": []
    }
  ]
}